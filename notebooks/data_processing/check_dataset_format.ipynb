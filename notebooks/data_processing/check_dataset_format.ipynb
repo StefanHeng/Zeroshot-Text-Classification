{
 "cells": [
  {
   "cell_type": "markdown",
   "source": [
    "# Check dataset format\n",
    "\n",
    "Since Sun. Feb. 20th, 2022\n",
    "\n",
    "\n",
    "Check the dataset formats in our benchmark, for feeding into models\n",
    "\n",
    "\n",
    "## Setup\n",
    "\n"
   ],
   "metadata": {
    "collapsed": false
   }
  },
  {
   "cell_type": "code",
   "execution_count": 44,
   "metadata": {
    "collapsed": true
   },
   "outputs": [],
   "source": [
    "import os\n",
    "\n",
    "import pandas as pd\n",
    "from datasets import load_dataset\n",
    "from datasets import Dataset, Features, ClassLabel, Value\n",
    "\n",
    "from zeroshot_encoder.util import *\n",
    "from icecream import ic\n"
   ]
  },
  {
   "cell_type": "markdown",
   "source": [
    "## Intent\n",
    "\n",
    "\n",
    "### clinc\n"
   ],
   "metadata": {
    "collapsed": false
   }
  },
  {
   "cell_type": "code",
   "execution_count": 45,
   "outputs": [
    {
     "name": "stderr",
     "output_type": "stream",
     "text": [
      "ic| type(clinc): <class 'dict'>\n",
      "    clinc.keys(): dict_keys(['oos_val', 'val', 'train', 'oos_test', 'test', 'oos_train'])\n",
      "ic| type(tr): <class 'list'>\n",
      "    len(tr): 15000\n",
      "    tr[:5]: [['what expression would i use to say i love you if i were an italian',\n",
      "              'translate'],\n",
      "             [\"can you tell me how to say 'i do not speak much spanish', in spanish\",\n",
      "              'translate'],\n",
      "             [\"what is the equivalent of, 'life is good' in french\", 'translate'],\n",
      "             [\"tell me how to say, 'it is a beautiful morning' in italian\", 'translate'],\n",
      "             ['if i were mongolian, how would i say that i am a tourist', 'translate']]\n"
     ]
    },
    {
     "data": {
      "text/plain": "(list,\n 15000,\n [['what expression would i use to say i love you if i were an italian',\n   'translate'],\n  [\"can you tell me how to say 'i do not speak much spanish', in spanish\",\n   'translate'],\n  [\"what is the equivalent of, 'life is good' in french\", 'translate'],\n  [\"tell me how to say, 'it is a beautiful morning' in italian\", 'translate'],\n  ['if i were mongolian, how would i say that i am a tourist', 'translate']])"
     },
     "execution_count": 45,
     "metadata": {},
     "output_type": "execute_result"
    }
   ],
   "source": [
    "fnm = 'clinc.json'\n",
    "fnm = os.path.join(PATH_BASE, DIR_PROJ, 'dataset', 'intent', fnm)\n",
    "with open(fnm) as f:\n",
    "    clinc = json.load(f)\n",
    "\n",
    "ic(type(clinc), clinc.keys())\n",
    "tr = clinc['train']\n",
    "ic(type(tr), len(tr), tr[:5])\n"
   ],
   "metadata": {
    "collapsed": false,
    "pycharm": {
     "name": "#%%\n"
    }
   }
  },
  {
   "cell_type": "markdown",
   "source": [
    "#### Try converting it to a huggingface Dataset\n",
    "\n"
   ],
   "metadata": {
    "collapsed": false
   }
  },
  {
   "cell_type": "code",
   "execution_count": 46,
   "outputs": [
    {
     "name": "stderr",
     "output_type": "stream",
     "text": [
      "Using custom data configuration default-3db1f50b3ad246d7\n"
     ]
    },
    {
     "name": "stdout",
     "output_type": "stream",
     "text": [
      "Downloading and preparing dataset json/default to /Users/stefanh/.cache/huggingface/datasets/json/default-3db1f50b3ad246d7/0.0.0/ac0ca5f5289a6cf108e706efcf040422dbbfa8e658dee6a819f20d76bb84d26b...\n"
     ]
    },
    {
     "data": {
      "text/plain": "  0%|          | 0/1 [00:00<?, ?it/s]",
      "application/vnd.jupyter.widget-view+json": {
       "version_major": 2,
       "version_minor": 0,
       "model_id": "e293c39de97042eea565e2975a20eb82"
      }
     },
     "metadata": {},
     "output_type": "display_data"
    },
    {
     "data": {
      "text/plain": "  0%|          | 0/1 [00:00<?, ?it/s]",
      "application/vnd.jupyter.widget-view+json": {
       "version_major": 2,
       "version_minor": 0,
       "model_id": "5b6e712712844c3fa3227269b46469d0"
      }
     },
     "metadata": {},
     "output_type": "display_data"
    },
    {
     "name": "stdout",
     "output_type": "stream",
     "text": [
      "Dataset json downloaded and prepared to /Users/stefanh/.cache/huggingface/datasets/json/default-3db1f50b3ad246d7/0.0.0/ac0ca5f5289a6cf108e706efcf040422dbbfa8e658dee6a819f20d76bb84d26b. Subsequent calls will reuse this data.\n"
     ]
    },
    {
     "data": {
      "text/plain": "  0%|          | 0/1 [00:00<?, ?it/s]",
      "application/vnd.jupyter.widget-view+json": {
       "version_major": 2,
       "version_minor": 0,
       "model_id": "96c0a5ee6ccb4efca8a65c85ca5c2fdf"
      }
     },
     "metadata": {},
     "output_type": "display_data"
    },
    {
     "name": "stderr",
     "output_type": "stream",
     "text": [
      "ic| dataset: {'train': Dataset({\n",
      "                 features: ['text', 'label'],\n",
      "                 num_rows: 15000\n",
      "             })}\n",
      "ic| type(lbs): <class 'dict'>\n",
      "ic| len(lbs): 150\n",
      "    lbs[:5]: ['translate', 'transfer', 'timer', 'definition', 'meaning_of_life']\n"
     ]
    },
    {
     "data": {
      "text/plain": "(150, ['translate', 'transfer', 'timer', 'definition', 'meaning_of_life'])"
     },
     "execution_count": 46,
     "metadata": {},
     "output_type": "execute_result"
    }
   ],
   "source": [
    "test_train_fnm = os.path.join(PATH_BASE, DIR_PROJ, 'dataset', 'test_lang', 'clinc_train.json')\n",
    "tr_ = [dict(text=txt, label=lb) for (txt, lb) in tr]\n",
    "with open(test_train_fnm, 'w') as f:\n",
    "    json.dump(dict(data=tr_), f, indent=4)\n",
    "\n",
    "# dataset = load_dataset('json', data_files=fnm, field='train')\n",
    "dataset = load_dataset('json', data_files=test_train_fnm, field='data')\n",
    "# dataset.features  # Not provided\n",
    "ic(dataset)\n",
    "lbs = dataset.unique('label')\n",
    "ic(type(lbs))\n",
    "lbs = lbs['train']\n",
    "ic(len(lbs), lbs[:5])\n"
   ],
   "metadata": {
    "collapsed": false,
    "pycharm": {
     "name": "#%%\n"
    }
   }
  },
  {
   "cell_type": "code",
   "execution_count": 48,
   "outputs": [
    {
     "name": "stderr",
     "output_type": "stream",
     "text": [
      "ic| df:                                                     text          label\n",
      "        0      what expression would i use to say i love you ...      translate\n",
      "        1      can you tell me how to say 'i do not speak muc...      translate\n",
      "        2      what is the equivalent of, 'life is good' in f...      translate\n",
      "        3      tell me how to say, 'it is a beautiful morning...      translate\n",
      "        4      if i were mongolian, how would i say that i am...      translate\n",
      "        ...                                                  ...            ...\n",
      "        14995           can you explain why my card was declined  card_declined\n",
      "        14996  how come starbucks declined my card when i tri...  card_declined\n",
      "        14997        how come my card was not accepted yesterday  card_declined\n",
      "        14998  find out what happened to make my card get dec...  card_declined\n",
      "        14999                why was my card declined at safeway  card_declined\n",
      "        \n",
      "        [15000 rows x 2 columns]\n",
      "ic| dset: Dataset({\n",
      "              features: ['text', 'label'],\n",
      "              num_rows: 15000\n",
      "          })\n",
      "ic| features: {'label': ClassLabel(num_classes=150, names=['accept_reservations', 'account_blocked', 'alarm', 'application_status', 'apr', 'are_you_a_bot', 'balance', 'bill_balance', 'bill_due', 'book_flight', 'book_hotel', 'calculator', 'calendar', 'calendar_update', 'calories', 'cancel', 'cancel_reservation', 'car_rental', 'card_declined', 'carry_on', 'change_accent', 'change_ai_name', 'change_language', 'change_speed', 'change_user_name', 'change_volume', 'confirm_reservation', 'cook_time', 'credit_limit', 'credit_limit_change', 'credit_score', 'current_location', 'damaged_card', 'date', 'definition', 'direct_deposit', 'directions', 'distance', 'do_you_have_pets', 'exchange_rate', 'expiration_date', 'find_phone', 'flight_status', 'flip_coin', 'food_last', 'freeze_account', 'fun_fact', 'gas', 'gas_type', 'goodbye', 'greeting', 'how_busy', 'how_old_are_you', 'improve_credit_score', 'income', 'ingredient_substitution', 'ingredients_list', 'insurance', 'insurance_change', 'interest_rate', 'international_fees', 'international_visa', 'jump_start', 'last_maintenance', 'lost_luggage', 'make_call', 'maybe', 'meal_suggestion', 'meaning_of_life', 'measurement_conversion', 'meeting_schedule', 'min_payment', 'mpg', 'new_card', 'next_holiday', 'next_song', 'no', 'nutrition_info', 'oil_change_how', 'oil_change_when', 'order', 'order_checks', 'order_status', 'pay_bill', 'payday', 'pin_change', 'play_music', 'plug_type', 'pto_balance', 'pto_request', 'pto_request_status', 'pto_used', 'recipe', 'redeem_rewards', 'reminder', 'reminder_update', 'repeat', 'replacement_card_duration', 'report_fraud', 'report_lost_card', 'reset_settings', 'restaurant_reservation', 'restaurant_reviews', 'restaurant_suggestion', 'rewards_balance', 'roll_dice', 'rollover_401k', 'routing', 'schedule_maintenance', 'schedule_meeting', 'share_location', 'shopping_list', 'shopping_list_update', 'smart_home', 'spelling', 'spending_history', 'sync_device', 'taxes', 'tell_joke', 'text', 'thank_you', 'time', 'timer', 'timezone', 'tire_change', 'tire_pressure', 'todo_list', 'todo_list_update', 'traffic', 'transactions', 'transfer', 'translate', 'travel_alert', 'travel_notification', 'travel_suggestion', 'uber', 'update_playlist', 'user_name', 'vaccines', 'w2', 'weather', 'what_are_your_hobbies', 'what_can_i_ask_you', 'what_is_your_name', 'what_song', 'where_are_you_from', 'whisper_mode', 'who_do_you_work_for', 'who_made_you', 'yes'], names_file=None, id=None),\n",
      "               'text': Value(dtype='string', id=None)}\n"
     ]
    },
    {
     "data": {
      "text/plain": "{'text': Value(dtype='string', id=None),\n 'label': ClassLabel(num_classes=150, names=['accept_reservations', 'account_blocked', 'alarm', 'application_status', 'apr', 'are_you_a_bot', 'balance', 'bill_balance', 'bill_due', 'book_flight', 'book_hotel', 'calculator', 'calendar', 'calendar_update', 'calories', 'cancel', 'cancel_reservation', 'car_rental', 'card_declined', 'carry_on', 'change_accent', 'change_ai_name', 'change_language', 'change_speed', 'change_user_name', 'change_volume', 'confirm_reservation', 'cook_time', 'credit_limit', 'credit_limit_change', 'credit_score', 'current_location', 'damaged_card', 'date', 'definition', 'direct_deposit', 'directions', 'distance', 'do_you_have_pets', 'exchange_rate', 'expiration_date', 'find_phone', 'flight_status', 'flip_coin', 'food_last', 'freeze_account', 'fun_fact', 'gas', 'gas_type', 'goodbye', 'greeting', 'how_busy', 'how_old_are_you', 'improve_credit_score', 'income', 'ingredient_substitution', 'ingredients_list', 'insurance', 'insurance_change', 'interest_rate', 'international_fees', 'international_visa', 'jump_start', 'last_maintenance', 'lost_luggage', 'make_call', 'maybe', 'meal_suggestion', 'meaning_of_life', 'measurement_conversion', 'meeting_schedule', 'min_payment', 'mpg', 'new_card', 'next_holiday', 'next_song', 'no', 'nutrition_info', 'oil_change_how', 'oil_change_when', 'order', 'order_checks', 'order_status', 'pay_bill', 'payday', 'pin_change', 'play_music', 'plug_type', 'pto_balance', 'pto_request', 'pto_request_status', 'pto_used', 'recipe', 'redeem_rewards', 'reminder', 'reminder_update', 'repeat', 'replacement_card_duration', 'report_fraud', 'report_lost_card', 'reset_settings', 'restaurant_reservation', 'restaurant_reviews', 'restaurant_suggestion', 'rewards_balance', 'roll_dice', 'rollover_401k', 'routing', 'schedule_maintenance', 'schedule_meeting', 'share_location', 'shopping_list', 'shopping_list_update', 'smart_home', 'spelling', 'spending_history', 'sync_device', 'taxes', 'tell_joke', 'text', 'thank_you', 'time', 'timer', 'timezone', 'tire_change', 'tire_pressure', 'todo_list', 'todo_list_update', 'traffic', 'transactions', 'transfer', 'translate', 'travel_alert', 'travel_notification', 'travel_suggestion', 'uber', 'update_playlist', 'user_name', 'vaccines', 'w2', 'weather', 'what_are_your_hobbies', 'what_can_i_ask_you', 'what_is_your_name', 'what_song', 'where_are_you_from', 'whisper_mode', 'who_do_you_work_for', 'who_made_you', 'yes'], names_file=None, id=None)}"
     },
     "execution_count": 48,
     "metadata": {},
     "output_type": "execute_result"
    }
   ],
   "source": [
    "df = pd.DataFrame(tr_)\n",
    "ic(df)\n",
    "dset = Dataset.from_pandas(df)\n",
    "ic(dset)\n",
    "lbs = sorted(dset.unique('label'))  # Sort strings, enforce deterministic order\n",
    "features = Features(text=Value(dtype='string'), label=ClassLabel(names=lbs))\n",
    "ic(features)\n",
    "\n"
   ],
   "metadata": {
    "collapsed": false,
    "pycharm": {
     "name": "#%%\n"
    }
   }
  }
 ],
 "metadata": {
  "kernelspec": {
   "display_name": "Python 3",
   "language": "python",
   "name": "python3"
  },
  "language_info": {
   "codemirror_mode": {
    "name": "ipython",
    "version": 2
   },
   "file_extension": ".py",
   "mimetype": "text/x-python",
   "name": "python",
   "nbconvert_exporter": "python",
   "pygments_lexer": "ipython2",
   "version": "2.7.6"
  }
 },
 "nbformat": 4,
 "nbformat_minor": 0
}