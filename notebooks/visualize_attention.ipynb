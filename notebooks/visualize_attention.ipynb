{
 "cells": [
  {
   "cell_type": "markdown",
   "source": [
    "# Visualize attention\n",
    "Since Tues, May. 10th, 2022\n",
    "\n",
    "Visualize attention for Binary Bert model on samples it performs the worst on to gain insights\n",
    "\n",
    "\n",
    "## setup\n",
    "\n"
   ],
   "metadata": {
    "collapsed": false,
    "pycharm": {
     "name": "#%% md\n"
    }
   }
  },
  {
   "cell_type": "code",
   "execution_count": null,
   "metadata": {
    "collapsed": true,
    "pycharm": {
     "name": "#%%\n"
    }
   },
   "outputs": [],
   "source": [
    "%load_ext autoreload\n",
    "%autoreload 2\n",
    "\n",
    "\n",
    "from os.path import join as os_join\n",
    "\n",
    "from bertviz import head_view\n",
    "from icecream import ic\n",
    "\n",
    "from zeroshot_encoder.util import *\n",
    "\n",
    "model_dir_nm = os_join('binary-bert-rand-vanilla-old-shuffle-05.03.22', 'rand')\n",
    "model_path = os_join(u.proj_path, u.model_dir, model_dir_nm)\n",
    "\n",
    "\n",
    "\n",
    "\n"
   ]
  },
  {
   "cell_type": "markdown",
   "source": [
    "## visualize\n",
    "\n"
   ],
   "metadata": {
    "collapsed": false,
    "pycharm": {
     "name": "#%% md\n"
    }
   }
  },
  {
   "cell_type": "code",
   "execution_count": null,
   "outputs": [],
   "source": [],
   "metadata": {
    "collapsed": false,
    "pycharm": {
     "name": "#%%\n"
    }
   }
  }
 ],
 "metadata": {
  "kernelspec": {
   "display_name": "Python 3",
   "language": "python",
   "name": "python3"
  },
  "language_info": {
   "codemirror_mode": {
    "name": "ipython",
    "version": 2
   },
   "file_extension": ".py",
   "mimetype": "text/x-python",
   "name": "python",
   "nbconvert_exporter": "python",
   "pygments_lexer": "ipython2",
   "version": "2.7.6"
  }
 },
 "nbformat": 4,
 "nbformat_minor": 0
}